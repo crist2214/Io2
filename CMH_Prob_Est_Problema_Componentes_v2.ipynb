{
 "cells": [
  {
   "cell_type": "markdown",
   "metadata": {},
   "source": [
    "# Problema de las componente electrónicas\n",
    "Considere un sistema electrónico con dos componentes. Se observa el estado\n",
    "del sistema cada hora. Una componente dada que opera en el tiempo $n$ tiene\n",
    "probabilidad $p$ de fallar antes de la siguiente observación en el instante $n+1$. Una componente que se encontraba en un estado fallido en el tiempo $n$ tiene una probabilidad $r$ de ser reparado en el tiempo $n+1$,\n",
    "independientemente de cuánto tiempo la componente ha estado en un estado\n",
    "fallido. Los fallos de los componentes y las reparaciones son eventos\n",
    "mutuamente independientes. Sea $X_{n}$ el número de componentes en\n",
    "funcionamiento en el tiempo $n$.\n",
    "\n",
    "- **d)** Encuentre las probabilidades estacionarias $\\pi$.\n",
    "\n"
   ]
  },
  {
   "cell_type": "markdown",
   "metadata": {},
   "source": [
    "## Solución con Sympy:"
   ]
  },
  {
   "cell_type": "code",
   "execution_count": 2,
   "metadata": {},
   "outputs": [],
   "source": [
    "from IPython.display import display, Markdown\n",
    "import sympy as sym\n",
    "# Definimos las variables y parámetros:\n",
    "pi_0, pi_1, pi_2, p, r = sym.symbols('pi_0 pi_1 pi_2 p r')"
   ]
  },
  {
   "cell_type": "markdown",
   "metadata": {},
   "source": [
    "Recordemos que la las prabilidades en estado estacionario deben satisfacer:\n",
    "\n",
    "$$\n",
    "\\boxed{\n",
    "    \\begin{aligned}\n",
    "    \\sum_{i \\in E} \\pi_i P_{ij} &= \\pi_j, \\quad \\forall j \\in E \\\\\n",
    "    \\sum_{j \\in E} \\pi_j &= 1.\n",
    "    \\end{aligned}\n",
    "} \n",
    "\\equiv \n",
    "\\boxed{\n",
    "    \\begin{aligned}\n",
    "    P^t\\pi^t &= \\pi^t, \\\\ \n",
    "    \\mathbb{1}^t \\pi^t  &= 1.\n",
    "    \\end{aligned}\n",
    "}\n",
    "$$\n",
    "\n",
    "\n",
    "Como la matriz de probabilidades de transición es:\n",
    "$$\n",
    "P = \\begin{pmatrix}\n",
    "(1-r)^2 & 2r(1-r) & r^2 \\\\\n",
    "p(1-r) & p r + (1-p)(1-r) & r(1-p) \\\\\n",
    "p^2 & 2p(1-p) & (1-p)^2\n",
    "\\end{pmatrix}\n",
    "\\implies \n",
    "P^t = \\begin{pmatrix}\n",
    "(1-r)^2 & p(1-r) & p^2 \\\\\n",
    "2r(1-r) & pr + (1-p)(1-r) & 2p(1-p) \\\\\n",
    "r^2 & r(1-p) & (1-p)^2\n",
    "\\end{pmatrix}\n",
    "$$\n",
    "Obtenemos:"
   ]
  },
  {
   "cell_type": "markdown",
   "metadata": {},
   "source": [
    "Usemos ahora sympy para definir la matriz de transición:"
   ]
  },
  {
   "cell_type": "code",
   "execution_count": 13,
   "metadata": {},
   "outputs": [
    {
     "data": {
      "text/latex": [
       "$\\displaystyle \\left[\\begin{matrix}\\left(1 - r\\right)^{2} & 2 r \\left(1 - r\\right) & r^{2}\\\\p \\left(1 - r\\right) & p r + \\left(1 - p\\right) \\left(1 - r\\right) & r \\left(1 - p\\right)\\\\p^{2} & 2 p \\left(1 - p\\right) & \\left(1 - p\\right)^{2}\\end{matrix}\\right]$"
      ],
      "text/plain": [
       "Matrix([\n",
       "[(1 - r)**2,           2*r*(1 - r),       r**2],\n",
       "[ p*(1 - r), p*r + (1 - p)*(1 - r),  r*(1 - p)],\n",
       "[      p**2,           2*p*(1 - p), (1 - p)**2]])"
      ]
     },
     "execution_count": 13,
     "metadata": {},
     "output_type": "execute_result"
    }
   ],
   "source": [
    "# Definimos las matriz de transición P:\n",
    "P = sym.Matrix([\n",
    "    [(1-r)**2, 2*r*(1-r), r**2],\n",
    "    [p*(1-r), p*r + (1-p)*(1-r), r*(1-p)],\n",
    "    [p**2, 2*p*(1-p), (1-p)**2]\n",
    "])\n",
    "# Mostramos P:\n",
    "P"
   ]
  },
  {
   "cell_type": "markdown",
   "metadata": {},
   "source": [
    "Definimos el vector de las probabilidades estacionarias:"
   ]
  },
  {
   "cell_type": "code",
   "execution_count": 14,
   "metadata": {},
   "outputs": [
    {
     "data": {
      "text/latex": [
       "$\\displaystyle \\left[\\begin{matrix}\\pi_{0}\\\\\\pi_{1}\\\\\\pi_{2}\\end{matrix}\\right]$"
      ],
      "text/plain": [
       "Matrix([\n",
       "[pi_0],\n",
       "[pi_1],\n",
       "[pi_2]])"
      ]
     },
     "execution_count": 14,
     "metadata": {},
     "output_type": "execute_result"
    }
   ],
   "source": [
    "pi = sym.Matrix([pi_0,pi_1,pi_2]) # Lo define como un vector columna por defecto\n",
    "\n",
    "# Mostramos pi\n",
    "pi"
   ]
  },
  {
   "cell_type": "markdown",
   "metadata": {},
   "source": [
    "Definimos el sistema de ecuaciones:\n",
    " $P^t\\pi = \\pi$"
   ]
  },
  {
   "cell_type": "code",
   "execution_count": 15,
   "metadata": {},
   "outputs": [
    {
     "data": {
      "text/latex": [
       "$\\displaystyle \\left[\\begin{matrix}p^{2} \\pi_{2} + p \\pi_{1} \\cdot \\left(1 - r\\right) + \\pi_{0} \\left(1 - r\\right)^{2}\\\\2 p \\pi_{2} \\cdot \\left(1 - p\\right) + 2 \\pi_{0} r \\left(1 - r\\right) + \\pi_{1} \\left(p r + \\left(1 - p\\right) \\left(1 - r\\right)\\right)\\\\\\pi_{0} r^{2} + \\pi_{1} r \\left(1 - p\\right) + \\pi_{2} \\left(1 - p\\right)^{2}\\end{matrix}\\right] = \\left[\\begin{matrix}\\pi_{0}\\\\\\pi_{1}\\\\\\pi_{2}\\end{matrix}\\right]$"
      ],
      "text/plain": [
       "Eq(Matrix([\n",
       "[                      p**2*pi_2 + p*pi_1*(1 - r) + pi_0*(1 - r)**2],\n",
       "[2*p*pi_2*(1 - p) + 2*pi_0*r*(1 - r) + pi_1*(p*r + (1 - p)*(1 - r))],\n",
       "[                      pi_0*r**2 + pi_1*r*(1 - p) + pi_2*(1 - p)**2]]), Matrix([\n",
       "[pi_0],\n",
       "[pi_1],\n",
       "[pi_2]]))"
      ]
     },
     "execution_count": 15,
     "metadata": {},
     "output_type": "execute_result"
    }
   ],
   "source": [
    "eq1 = sym.Eq(P.transpose() * pi,pi) # Define P'*pi = pi, porque pi es vector columna\n",
    "# Mostramos eq1\n",
    "eq1"
   ]
  },
  {
   "cell_type": "markdown",
   "metadata": {},
   "source": [
    "Definimos las ecuaciones que normaliza $\\pi$:  $ \\sum_{j \\in E} \\pi_j = 1 $. "
   ]
  },
  {
   "cell_type": "code",
   "execution_count": 16,
   "metadata": {},
   "outputs": [
    {
     "data": {
      "text/latex": [
       "$\\displaystyle \\pi_{0} + \\pi_{1} + \\pi_{2} = 1$"
      ],
      "text/plain": [
       "Eq(pi_0 + pi_1 + pi_2, 1)"
      ]
     },
     "execution_count": 16,
     "metadata": {},
     "output_type": "execute_result"
    }
   ],
   "source": [
    "eq2 = sym.Eq(sum(pi),1)     # sum_j pi_j = 1\n",
    "# Mostramos eq2:\n",
    "eq2"
   ]
  },
  {
   "cell_type": "markdown",
   "metadata": {},
   "source": [
    "Resolviendo el sistema de ecuaciones, usamos la función [solve](https://docs.sympy.org/latest/guides/solving/index.html#solving-guide) de Sympy:"
   ]
  },
  {
   "cell_type": "code",
   "execution_count": 20,
   "metadata": {},
   "outputs": [],
   "source": [
    "# Resolver el sistema de ecuaciones\n",
    "solpi = sym.solve((eq1,eq2), (pi_0, pi_1, pi_2))"
   ]
  },
  {
   "cell_type": "markdown",
   "metadata": {},
   "source": [
    "Preparamos la salida con [Latex](https://www.latex-project.org) y [Markdown](https://markdown.es):"
   ]
  },
  {
   "cell_type": "code",
   "execution_count": 21,
   "metadata": {},
   "outputs": [
    {
     "data": {
      "text/markdown": [
       "\n",
       "Las probabilidades estacionarias son:\n",
       "- $\\pi_0 = \\frac{p^{2}}{p^{2} + 2 p r + r^{2}}$\n",
       "- $\\pi_1 = \\frac{2 p r}{p^{2} + 2 p r + r^{2}}$\n",
       "- $\\pi_2 = \\frac{r^{2}}{p^{2} + 2 p r + r^{2}}$\n"
      ],
      "text/plain": [
       "<IPython.core.display.Markdown object>"
      ]
     },
     "metadata": {},
     "output_type": "display_data"
    }
   ],
   "source": [
    "results = f\"\"\"\n",
    "Las probabilidades estacionarias son:\n",
    "- $\\\\pi_0 = {sym.latex(solpi[pi_0])}$\n",
    "- $\\\\pi_1 = {sym.latex(solpi[pi_1])}$\n",
    "- $\\\\pi_2 = {sym.latex(solpi[pi_2])}$\n",
    "\"\"\"\n",
    "# Mostramos las probabilidades estacionarias:\n",
    "display(Markdown(results))"
   ]
  }
 ],
 "metadata": {
  "kernelspec": {
   "display_name": "base",
   "language": "python",
   "name": "python3"
  },
  "language_info": {
   "codemirror_mode": {
    "name": "ipython",
    "version": 3
   },
   "file_extension": ".py",
   "mimetype": "text/x-python",
   "name": "python",
   "nbconvert_exporter": "python",
   "pygments_lexer": "ipython3",
   "version": "3.11.5"
  }
 },
 "nbformat": 4,
 "nbformat_minor": 2
}
