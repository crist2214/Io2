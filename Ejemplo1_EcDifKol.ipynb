{
 "cells": [
  {
   "cell_type": "markdown",
   "metadata": {},
   "source": [
    "- **Author:** Jaime Carrasco\n",
    "- **Fecha:** Octubre, 2024\n",
    "- **Curso:** Investigación de Operaciones II"
   ]
  },
  {
   "cell_type": "markdown",
   "metadata": {},
   "source": [
    "\n",
    "\n",
    "\n",
    "### Resumen\n",
    "La evolución de una CMTC queda completamente descrita por el sistema de ecuaciones diferenciales siguientes:\n",
    "\n",
    "**BACKWARD EQUATIONS:**\n",
    "Para $i, j \\in E$ y $t \\geq 0$, se cumple\n",
    "$$\n",
    "p'_{ij}(t) = \\sum_{k \\neq i} q_{ik} p_{kj}(t) - \\nu_i p_{ij}(t).\n",
    "$$\n",
    "**FORWARD EQUATIONS:**\n",
    "Para $i, j \\in E$ y $t \\geq 0$, se cumple\n",
    "$$\n",
    "p'_{ij}(t) = \\sum_{k \\neq j} p_{ik}(t) q_{kj} - \\nu_j p_{ij}(t)\n",
    "$$\n",
    "En ambos casos, las condiciones iniciales (o condiciones de borde) son: $p_{ij}(0) = 0$, para $i \\neq j$;  $p_{ii}(0) = 1 \\quad \\text{y} \\quad p'_{ij}(0) = q_{ij}$.\n",
    "\n",
    "\n",
    "- Si llamamos a la matriz \n",
    "$$\n",
    "P(t) = (p_{ij}(t))_{i,j \\in E} \\Rightarrow P'(t) = (p'_{ij}(t))_{i,j \\in E}.\n",
    "$$\n",
    "- Si denotamos por \n",
    "$$\n",
    "q_{ii} := -\\nu_i, \\quad \\forall i \\in E,\n",
    "$$\n",
    "las ecuaciones de Backward(B) y Forward(F) quedan matricialmente:\n",
    "$$\n",
    "(B) : P'(t) = QP(t),\n",
    "$$\n",
    "$$\n",
    "(F) : P'(t) = P(t)Q,\n",
    "$$\n",
    "donde $Q = (q_{ij})_{i,j \\in E}$ es la matriz de tasas de transición."
   ]
  },
  {
   "cell_type": "markdown",
   "metadata": {},
   "source": []
  },
  {
   "cell_type": "markdown",
   "metadata": {},
   "source": [
    "\n",
    "### Ejercicio\n",
    "- Supongamos una máquina puede estar en dos estados: funcionando bien $(0)$ o en reparación $(1)$. Los tiempos de permanencia en ambos estados son exponenciales a tasas $\\lambda$ y $\\mu$ respectivamente.\n",
    "- Si definimos por $X(t) :=$ el estado en que se encuentra la máquina en el tiempo $t$, queremos describir la CMTC, es decir, encontrar $p_{00}(t), \\ p_{01}(t), \\ p_{10}(t)$ y $p_{11}(t)$. \n",
    "\n",
    "#### Solución\n",
    "Es fácil deducir que $p_{01} = 1$, $p_{10} = 1$, $q_{01} = \\lambda$, $q_{10} = \\mu$, $\\nu_0 = \\lambda$, $\\nu_1 = \\mu$. \n",
    "Así:\n",
    "$$\n",
    "Q = \\begin{pmatrix}\n",
    "    -\\lambda & \\lambda \\\\\n",
    "    \\mu      & -\\mu\n",
    "    \\end{pmatrix}.\n",
    "$$"
   ]
  },
  {
   "cell_type": "markdown",
   "metadata": {},
   "source": [
    "### Resolución con SymPy (código no-eficiente)"
   ]
  },
  {
   "cell_type": "code",
   "execution_count": null,
   "metadata": {},
   "outputs": [],
   "source": [
    "import sympy as sym\n",
    "\n",
    "# Definimos los parámetros:\n",
    "t, lambda_, mu = sym.symbols(\"t lambda mu\")\n",
    "# Definimos las funciones de probabilidades de transición:\n",
    "p00, p01, p10, p11 = sym.symbols(\"p00 p01 p10 p11\", cls=sym.Function)\n",
    "\n",
    "# Matriz de tasas de transición (Q-matrix):\n",
    "q = sym.Matrix([[-lambda_, lambda_], \n",
    "                [mu, -mu]])"
   ]
  },
  {
   "cell_type": "markdown",
   "metadata": {},
   "source": [
    "### Resolvamos usando las EDK Forward:\n",
    "\n",
    "Ecuación  para $i=0, j=0$:\n",
    "$$ p'_{00}(t) = p_{01}(t) \\mu - \\lambda p_{00}(t) $$"
   ]
  },
  {
   "cell_type": "markdown",
   "metadata": {},
   "source": [
    "Ecuación para $i=0, j=1$:\n",
    "$$ p'_{01}(t) = p_{00}(t) \\lambda - \\mu p_{01}(t) $$"
   ]
  },
  {
   "cell_type": "markdown",
   "metadata": {},
   "source": [
    "Ecuación para $i=1, j=0$:\n",
    "$$ p'_{10}(t) = p_{10}(t)\\mu -\\lambda p_{10}(t) $$"
   ]
  },
  {
   "cell_type": "markdown",
   "metadata": {},
   "source": [
    "Ecuación para $i=1, j=1$;\n",
    "$$ p'_{11}(t) = p_{10}(t) \\lambda - \\mu p_{11}(t) $$"
   ]
  },
  {
   "cell_type": "markdown",
   "metadata": {},
   "source": [
    "Establecemos las condiciones iniciales:"
   ]
  },
  {
   "cell_type": "markdown",
   "metadata": {},
   "source": [
    "### Usamos la función **dsolve** para resolver el sistema de ecuaciones diferenciales de Kolmogorov:"
   ]
  },
  {
   "cell_type": "code",
   "execution_count": null,
   "metadata": {},
   "outputs": [],
   "source": [
    "# Definimos las ecuaciones diferenciales:\n",
    "eq00 = sym.Eq(p00(t).diff(t), p01(t) * q[1, 0] + q[0, 0] * p00(t))\n",
    "eq01 = sym.Eq(p01(t).diff(t), p00(t) * q[0, 1] + q[1, 1] * p01(t))\n",
    "eq10 = sym.Eq(p10(t).diff(t), p11(t) * q[1, 0] + q[0, 0] * p10(t))\n",
    "eq11 = sym.Eq(p11(t).diff(t), p10(t) * q[0, 1] + q[1, 1] * p11(t))\n",
    "\n",
    "cond_inic = {\n",
    "    p00(0): 1,\n",
    "    p01(0): 0,\n",
    "    p10(0): 0,\n",
    "    p11(0): 1,\n",
    "    p00(t).diff(t).subs(t, 0): q[0, 0],\n",
    "    p01(t).diff(t).subs(t, 0): q[0, 1],\n",
    "    p10(t).diff(t).subs(t, 0): q[1, 0],\n",
    "    p11(t).diff(t).subs(t, 0): q[1, 1],\n",
    "}\n",
    "\n",
    "# Resolviendo el sistema de ecuaciones diferenciales:\n",
    "sol = sym.dsolve([eq00, eq01, eq10, eq11], ics=cond_inic)\n",
    "\n",
    "# Mostramos las soluciones:\n",
    "sol"
   ]
  },
  {
   "cell_type": "markdown",
   "metadata": {},
   "source": [
    "### Mostramos las soluciones de mejor manera:"
   ]
  },
  {
   "cell_type": "code",
   "execution_count": null,
   "metadata": {},
   "outputs": [],
   "source": [
    "from IPython.display import display, Markdown\n",
    "display(Markdown((f'$p_{{00}}(t) = {sym.latex(sol[0].rhs)}$')))\n"
   ]
  },
  {
   "cell_type": "code",
   "execution_count": null,
   "metadata": {},
   "outputs": [],
   "source": [
    "display(Markdown((f'$p_{{01}}(t) = {sym.latex(sol[1].rhs)}$')))"
   ]
  },
  {
   "cell_type": "code",
   "execution_count": null,
   "metadata": {},
   "outputs": [],
   "source": [
    "display(Markdown((f'$p_{{10}}(t) = {sym.latex(sol[2].rhs)}$')))"
   ]
  },
  {
   "cell_type": "code",
   "execution_count": null,
   "metadata": {},
   "outputs": [],
   "source": [
    "display(Markdown((f'$p_{{11}}(t) = {sym.latex(sol[3].rhs)}$')))"
   ]
  }
 ],
 "metadata": {
  "kernelspec": {
   "display_name": "base",
   "language": "python",
   "name": "python3"
  },
  "language_info": {
   "codemirror_mode": {
    "name": "ipython",
    "version": 3
   },
   "file_extension": ".py",
   "mimetype": "text/x-python",
   "name": "python",
   "nbconvert_exporter": "python",
   "pygments_lexer": "ipython3",
   "version": "3.11.5"
  }
 },
 "nbformat": 4,
 "nbformat_minor": 2
}
