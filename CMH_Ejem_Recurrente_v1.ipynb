{
 "cells": [
  {
   "cell_type": "markdown",
   "metadata": {},
   "source": [
    "- **Author:** Jaime Carrasco\n",
    "- **Fecha:** Septiembre, 2024\n",
    "- **Curso:** Investigación de Operaciones II"
   ]
  },
  {
   "cell_type": "code",
   "execution_count": 6,
   "metadata": {},
   "outputs": [
    {
     "data": {
      "text/latex": [
       "$\\displaystyle \\left[\\begin{matrix}p & 1 - p & 0\\\\0 & 0 & 1\\\\1 - q & 0 & q\\end{matrix}\\right]$"
      ],
      "text/plain": [
       "Matrix([\n",
       "[    p, 1 - p, 0],\n",
       "[    0,     0, 1],\n",
       "[1 - q,     0, q]])"
      ]
     },
     "execution_count": 6,
     "metadata": {},
     "output_type": "execute_result"
    }
   ],
   "source": [
    "from IPython.display import display, Markdown\n",
    "import sympy as sym\n",
    "# Definimos las variables y parámetros:\n",
    "p, q, n = sym.symbols('p q n')\n",
    "\n",
    "# Definimos las matriz de transición P:\n",
    "P = sym.Matrix([\n",
    "    [p, 1-p, 0],\n",
    "    [0, 0, 1],\n",
    "    [1-q, 0, q]\n",
    "])\n",
    "P"
   ]
  },
  {
   "cell_type": "markdown",
   "metadata": {},
   "source": [
    "Podemos cargar la librería [itikz](https://github.com/jbn/itikz) para hacer el gráfico asociado en Latex:"
   ]
  },
  {
   "cell_type": "code",
   "execution_count": 2,
   "metadata": {},
   "outputs": [],
   "source": [
    "%load_ext itikz"
   ]
  },
  {
   "cell_type": "markdown",
   "metadata": {},
   "source": [
    "Luego, generamos el gráfico asociado con la librería [Tikz](https://tikz.net)"
   ]
  },
  {
   "cell_type": "code",
   "execution_count": 5,
   "metadata": {},
   "outputs": [
    {
     "data": {
      "image/svg+xml": [
       "<svg xmlns=\"http://www.w3.org/2000/svg\" xmlns:xlink=\"http://www.w3.org/1999/xlink\" width=\"381.994\" height=\"302.866\" viewBox=\"0 0 381.994 302.866\">\n",
       "<defs>\n",
       "<g>\n",
       "<g id=\"glyph-0-0\">\n",
       "<path d=\"M 2.9375 -6.375 C 2.9375 -6.625 2.9375 -6.640625 2.703125 -6.640625 C 2.078125 -6 1.203125 -6 0.890625 -6 L 0.890625 -5.6875 C 1.09375 -5.6875 1.671875 -5.6875 2.1875 -5.953125 L 2.1875 -0.78125 C 2.1875 -0.421875 2.15625 -0.3125 1.265625 -0.3125 L 0.953125 -0.3125 L 0.953125 0 C 1.296875 -0.03125 2.15625 -0.03125 2.5625 -0.03125 C 2.953125 -0.03125 3.828125 -0.03125 4.171875 0 L 4.171875 -0.3125 L 3.859375 -0.3125 C 2.953125 -0.3125 2.9375 -0.421875 2.9375 -0.78125 Z M 2.9375 -6.375 \"/>\n",
       "</g>\n",
       "<g id=\"glyph-0-1\">\n",
       "<path d=\"M 1.265625 -0.765625 L 2.328125 -1.796875 C 3.875 -3.171875 4.46875 -3.703125 4.46875 -4.703125 C 4.46875 -5.84375 3.578125 -6.640625 2.359375 -6.640625 C 1.234375 -6.640625 0.5 -5.71875 0.5 -4.828125 C 0.5 -4.28125 1 -4.28125 1.03125 -4.28125 C 1.203125 -4.28125 1.546875 -4.390625 1.546875 -4.8125 C 1.546875 -5.0625 1.359375 -5.328125 1.015625 -5.328125 C 0.9375 -5.328125 0.921875 -5.328125 0.890625 -5.3125 C 1.109375 -5.96875 1.65625 -6.328125 2.234375 -6.328125 C 3.140625 -6.328125 3.5625 -5.515625 3.5625 -4.703125 C 3.5625 -3.90625 3.078125 -3.125 2.515625 -2.5 L 0.609375 -0.375 C 0.5 -0.265625 0.5 -0.234375 0.5 0 L 4.203125 0 L 4.46875 -1.734375 L 4.234375 -1.734375 C 4.171875 -1.4375 4.109375 -1 4 -0.84375 C 3.9375 -0.765625 3.28125 -0.765625 3.0625 -0.765625 Z M 1.265625 -0.765625 \"/>\n",
       "</g>\n",
       "<g id=\"glyph-0-2\">\n",
       "<path d=\"M 2.890625 -3.515625 C 3.703125 -3.78125 4.28125 -4.46875 4.28125 -5.265625 C 4.28125 -6.078125 3.40625 -6.640625 2.453125 -6.640625 C 1.453125 -6.640625 0.6875 -6.046875 0.6875 -5.28125 C 0.6875 -4.953125 0.90625 -4.765625 1.203125 -4.765625 C 1.5 -4.765625 1.703125 -4.984375 1.703125 -5.28125 C 1.703125 -5.765625 1.234375 -5.765625 1.09375 -5.765625 C 1.390625 -6.265625 2.046875 -6.390625 2.40625 -6.390625 C 2.828125 -6.390625 3.375 -6.171875 3.375 -5.28125 C 3.375 -5.15625 3.34375 -4.578125 3.09375 -4.140625 C 2.796875 -3.65625 2.453125 -3.625 2.203125 -3.625 C 2.125 -3.609375 1.890625 -3.59375 1.8125 -3.59375 C 1.734375 -3.578125 1.671875 -3.5625 1.671875 -3.46875 C 1.671875 -3.359375 1.734375 -3.359375 1.90625 -3.359375 L 2.34375 -3.359375 C 3.15625 -3.359375 3.53125 -2.6875 3.53125 -1.703125 C 3.53125 -0.34375 2.84375 -0.0625 2.40625 -0.0625 C 1.96875 -0.0625 1.21875 -0.234375 0.875 -0.8125 C 1.21875 -0.765625 1.53125 -0.984375 1.53125 -1.359375 C 1.53125 -1.71875 1.265625 -1.921875 0.984375 -1.921875 C 0.734375 -1.921875 0.421875 -1.78125 0.421875 -1.34375 C 0.421875 -0.4375 1.34375 0.21875 2.4375 0.21875 C 3.65625 0.21875 4.5625 -0.6875 4.5625 -1.703125 C 4.5625 -2.515625 3.921875 -3.296875 2.890625 -3.515625 Z M 2.890625 -3.515625 \"/>\n",
       "</g>\n",
       "<g id=\"glyph-1-0\">\n",
       "<path d=\"M 0.453125 1.21875 C 0.375 1.5625 0.34375 1.625 -0.09375 1.625 C -0.203125 1.625 -0.3125 1.625 -0.3125 1.8125 C -0.3125 1.890625 -0.265625 1.9375 -0.1875 1.9375 C 0.078125 1.9375 0.375 1.90625 0.640625 1.90625 C 0.984375 1.90625 1.3125 1.9375 1.640625 1.9375 C 1.6875 1.9375 1.8125 1.9375 1.8125 1.734375 C 1.8125 1.625 1.71875 1.625 1.578125 1.625 C 1.078125 1.625 1.078125 1.5625 1.078125 1.46875 C 1.078125 1.34375 1.5 -0.28125 1.5625 -0.53125 C 1.6875 -0.234375 1.96875 0.109375 2.484375 0.109375 C 3.640625 0.109375 4.890625 -1.34375 4.890625 -2.8125 C 4.890625 -3.75 4.3125 -4.40625 3.5625 -4.40625 C 3.0625 -4.40625 2.578125 -4.046875 2.25 -3.65625 C 2.15625 -4.203125 1.71875 -4.40625 1.359375 -4.40625 C 0.890625 -4.40625 0.703125 -4.015625 0.625 -3.84375 C 0.4375 -3.5 0.3125 -2.90625 0.3125 -2.875 C 0.3125 -2.765625 0.40625 -2.765625 0.421875 -2.765625 C 0.53125 -2.765625 0.53125 -2.78125 0.59375 -3 C 0.765625 -3.703125 0.96875 -4.1875 1.328125 -4.1875 C 1.5 -4.1875 1.640625 -4.109375 1.640625 -3.734375 C 1.640625 -3.5 1.609375 -3.390625 1.5625 -3.21875 Z M 2.203125 -3.109375 C 2.265625 -3.375 2.546875 -3.65625 2.71875 -3.8125 C 3.078125 -4.109375 3.359375 -4.1875 3.53125 -4.1875 C 3.921875 -4.1875 4.171875 -3.84375 4.171875 -3.25 C 4.171875 -2.65625 3.84375 -1.515625 3.65625 -1.140625 C 3.3125 -0.4375 2.84375 -0.109375 2.46875 -0.109375 C 1.8125 -0.109375 1.6875 -0.9375 1.6875 -1 C 1.6875 -1.015625 1.6875 -1.03125 1.71875 -1.15625 Z M 2.203125 -3.109375 \"/>\n",
       "</g>\n",
       "<g id=\"glyph-1-1\">\n",
       "<path d=\"M 4.5 -4.296875 C 4.5 -4.34375 4.46875 -4.390625 4.40625 -4.390625 C 4.296875 -4.390625 3.890625 -4 3.734375 -3.703125 C 3.515625 -4.25 3.125 -4.40625 2.796875 -4.40625 C 1.625 -4.40625 0.40625 -2.9375 0.40625 -1.484375 C 0.40625 -0.515625 0.984375 0.109375 1.71875 0.109375 C 2.140625 0.109375 2.53125 -0.125 2.890625 -0.484375 C 2.796875 -0.140625 2.46875 1.203125 2.4375 1.296875 C 2.359375 1.578125 2.28125 1.609375 1.71875 1.625 C 1.59375 1.625 1.5 1.625 1.5 1.828125 C 1.5 1.828125 1.5 1.9375 1.625 1.9375 C 1.9375 1.9375 2.296875 1.90625 2.625 1.90625 C 2.953125 1.90625 3.3125 1.9375 3.65625 1.9375 C 3.703125 1.9375 3.828125 1.9375 3.828125 1.734375 C 3.828125 1.625 3.734375 1.625 3.5625 1.625 C 3.09375 1.625 3.09375 1.5625 3.09375 1.46875 C 3.09375 1.390625 3.109375 1.328125 3.125 1.25 Z M 1.75 -0.109375 C 1.140625 -0.109375 1.109375 -0.875 1.109375 -1.046875 C 1.109375 -1.53125 1.390625 -2.609375 1.5625 -3.03125 C 1.875 -3.765625 2.390625 -4.1875 2.796875 -4.1875 C 3.453125 -4.1875 3.59375 -3.375 3.59375 -3.3125 C 3.59375 -3.25 3.046875 -1.0625 3.015625 -1.03125 C 2.859375 -0.75 2.296875 -0.109375 1.75 -0.109375 Z M 1.75 -0.109375 \"/>\n",
       "</g>\n",
       "<g id=\"glyph-2-0\">\n",
       "<path d=\"M 6.5625 -2.296875 C 6.734375 -2.296875 6.921875 -2.296875 6.921875 -2.5 C 6.921875 -2.6875 6.734375 -2.6875 6.5625 -2.6875 L 1.171875 -2.6875 C 1 -2.6875 0.828125 -2.6875 0.828125 -2.5 C 0.828125 -2.296875 1 -2.296875 1.171875 -2.296875 Z M 6.5625 -2.296875 \"/>\n",
       "</g>\n",
       "</g>\n",
       "<clipPath id=\"clip-0\">\n",
       "<path clip-rule=\"nonzero\" d=\"M 356 218 L 381.992188 218 L 381.992188 244 L 356 244 Z M 356 218 \"/>\n",
       "</clipPath>\n",
       "<clipPath id=\"clip-1\">\n",
       "<path clip-rule=\"nonzero\" d=\"M 339 201 L 381.992188 201 L 381.992188 261 L 339 261 Z M 339 201 \"/>\n",
       "</clipPath>\n",
       "</defs>\n",
       "<path fill-rule=\"nonzero\" fill=\"rgb(79.998779%, 79.998779%, 100%)\" fill-opacity=\"1\" stroke-width=\"1.19553\" stroke-linecap=\"butt\" stroke-linejoin=\"miter\" stroke=\"rgb(44.999695%, 44.999695%, 100%)\" stroke-opacity=\"1\" stroke-miterlimit=\"10\" d=\"M 12.451688 -0.00175 C 12.451688 6.877156 6.877469 12.455281 -0.0014375 12.455281 C -6.876437 12.455281 -12.454562 6.877156 -12.454562 -0.00175 C -12.454562 -6.87675 -6.876437 -12.454875 -0.0014375 -12.454875 C 6.877469 -12.454875 12.451688 -6.87675 12.451688 -0.00175 Z M 12.451688 -0.00175 \" transform=\"matrix(1, 0, 0, -1, 85.478, 231.092)\"/>\n",
       "<g fill=\"rgb(0%, 0%, 0%)\" fill-opacity=\"1\">\n",
       "<use xlink:href=\"#glyph-0-0\" x=\"82.987\" y=\"234.302\"/>\n",
       "</g>\n",
       "<g clip-path=\"url(#clip-0)\">\n",
       "<path fill-rule=\"nonzero\" fill=\"rgb(79.998779%, 79.998779%, 100%)\" fill-opacity=\"1\" d=\"M 381.398438 231.09375 C 381.398438 224.214844 375.824219 218.636719 368.945312 218.636719 C 362.066406 218.636719 356.492188 224.214844 356.492188 231.09375 C 356.492188 237.96875 362.066406 243.546875 368.945312 243.546875 C 375.824219 243.546875 381.398438 237.96875 381.398438 231.09375 Z M 381.398438 231.09375 \"/>\n",
       "</g>\n",
       "<g clip-path=\"url(#clip-1)\">\n",
       "<path fill=\"none\" stroke-width=\"1.19553\" stroke-linecap=\"butt\" stroke-linejoin=\"miter\" stroke=\"rgb(44.999695%, 44.999695%, 100%)\" stroke-opacity=\"1\" stroke-miterlimit=\"10\" d=\"M 295.920437 -0.00175 C 295.920437 6.877156 290.346219 12.455281 283.467312 12.455281 C 276.588406 12.455281 271.014187 6.877156 271.014187 -0.00175 C 271.014187 -6.87675 276.588406 -12.454875 283.467312 -12.454875 C 290.346219 -12.454875 295.920437 -6.87675 295.920437 -0.00175 Z M 295.920437 -0.00175 \" transform=\"matrix(1, 0, 0, -1, 85.478, 231.092)\"/>\n",
       "</g>\n",
       "<g fill=\"rgb(0%, 0%, 0%)\" fill-opacity=\"1\">\n",
       "<use xlink:href=\"#glyph-0-1\" x=\"366.452\" y=\"234.302\"/>\n",
       "</g>\n",
       "<path fill-rule=\"nonzero\" fill=\"rgb(79.998779%, 79.998779%, 100%)\" fill-opacity=\"1\" stroke-width=\"1.19553\" stroke-linecap=\"butt\" stroke-linejoin=\"miter\" stroke=\"rgb(44.999695%, 44.999695%, 100%)\" stroke-opacity=\"1\" stroke-miterlimit=\"10\" d=\"M 154.186062 141.732625 C 154.186062 148.611531 148.611844 154.18575 141.732937 154.18575 C 134.857937 154.18575 129.279812 148.611531 129.279812 141.732625 C 129.279812 134.857625 134.857937 129.2795 141.732937 129.2795 C 148.611844 129.2795 154.186062 134.857625 154.186062 141.732625 Z M 154.186062 141.732625 \" transform=\"matrix(1, 0, 0, -1, 85.478, 231.092)\"/>\n",
       "<g fill=\"rgb(0%, 0%, 0%)\" fill-opacity=\"1\">\n",
       "<use xlink:href=\"#glyph-0-2\" x=\"224.72\" y=\"92.57\"/>\n",
       "</g>\n",
       "<path fill=\"none\" stroke-width=\"0.59776\" stroke-linecap=\"butt\" stroke-linejoin=\"miter\" stroke=\"rgb(0%, 0%, 0%)\" stroke-opacity=\"1\" stroke-miterlimit=\"10\" d=\"M -11.524875 -9.669719 C -85.181125 -71.474406 -85.181125 71.474812 -11.692844 9.81075 \" transform=\"matrix(1, 0, 0, -1, 85.478, 231.092)\"/>\n",
       "<path fill-rule=\"nonzero\" fill=\"rgb(0%, 0%, 0%)\" fill-opacity=\"1\" stroke-width=\"0.59776\" stroke-linecap=\"butt\" stroke-linejoin=\"round\" stroke=\"rgb(0%, 0%, 0%)\" stroke-opacity=\"1\" stroke-miterlimit=\"10\" d=\"M 0.916881 -0.000510312 C -0.230268 0.23016 -1.374188 0.687913 -2.751356 1.490483 C -1.374906 0.457838 -1.374783 -0.459953 -2.748713 -1.490455 C -1.372508 -0.687517 -0.22871 -0.22748 0.916881 -0.000510312 Z M 0.916881 -0.000510312 \" transform=\"matrix(0.76602, 0.64278, 0.64278, -0.76602, 73.78626, 221.28135)\"/>\n",
       "<g fill=\"rgb(0%, 0%, 0%)\" fill-opacity=\"1\">\n",
       "<use xlink:href=\"#glyph-1-0\" x=\"10.462\" y=\"232.268\"/>\n",
       "</g>\n",
       "<path fill=\"none\" stroke-width=\"0.59776\" stroke-linecap=\"butt\" stroke-linejoin=\"miter\" stroke=\"rgb(0%, 0%, 0%)\" stroke-opacity=\"1\" stroke-miterlimit=\"10\" d=\"M 15.045438 -0.00175 L 268.205594 -0.00175 \" transform=\"matrix(1, 0, 0, -1, 85.478, 231.092)\"/>\n",
       "<path fill-rule=\"nonzero\" fill=\"rgb(0%, 0%, 0%)\" fill-opacity=\"1\" stroke-width=\"0.59776\" stroke-linecap=\"butt\" stroke-linejoin=\"round\" stroke=\"rgb(0%, 0%, 0%)\" stroke-opacity=\"1\" stroke-miterlimit=\"10\" d=\"M 0.918423 -0.00175 C -0.230015 0.228719 -1.374546 0.68575 -2.749546 1.490437 C -1.374546 0.459187 -1.374546 -0.458781 -2.749546 -1.490031 C -1.374546 -0.68925 -0.230015 -0.228313 0.918423 -0.00175 Z M 0.918423 -0.00175 \" transform=\"matrix(1, 0, 0, -1, 353.68314, 231.092)\"/>\n",
       "<g fill=\"rgb(0%, 0%, 0%)\" fill-opacity=\"1\">\n",
       "<use xlink:href=\"#glyph-0-0\" x=\"216.125\" y=\"225.535\"/>\n",
       "</g>\n",
       "<g fill=\"rgb(0%, 0%, 0%)\" fill-opacity=\"1\">\n",
       "<use xlink:href=\"#glyph-2-0\" x=\"223.32\" y=\"225.535\"/>\n",
       "</g>\n",
       "<g fill=\"rgb(0%, 0%, 0%)\" fill-opacity=\"1\">\n",
       "<use xlink:href=\"#glyph-1-0\" x=\"233.283\" y=\"225.535\"/>\n",
       "</g>\n",
       "<path fill=\"none\" stroke-width=\"0.59776\" stroke-linecap=\"butt\" stroke-linejoin=\"miter\" stroke=\"rgb(0%, 0%, 0%)\" stroke-opacity=\"1\" stroke-miterlimit=\"10\" d=\"M 272.830594 10.638875 L 152.525906 130.939656 \" transform=\"matrix(1, 0, 0, -1, 85.478, 231.092)\"/>\n",
       "<path fill-rule=\"nonzero\" fill=\"rgb(0%, 0%, 0%)\" fill-opacity=\"1\" stroke-width=\"0.59776\" stroke-linecap=\"butt\" stroke-linejoin=\"round\" stroke=\"rgb(0%, 0%, 0%)\" stroke-opacity=\"1\" stroke-miterlimit=\"10\" d=\"M 0.916211 0.00178016 C -0.227325 0.228277 -1.376384 0.686796 -2.749179 1.490586 C -1.373622 0.457537 -1.373622 -0.459501 -2.751941 -1.489788 C -1.373622 -0.685998 -0.230087 -0.227479 0.916211 0.00178016 Z M 0.916211 0.00178016 \" transform=\"matrix(-0.7071, -0.7071, -0.7071, 0.7071, 238.00458, 100.1505)\"/>\n",
       "<g fill=\"rgb(0%, 0%, 0%)\" fill-opacity=\"1\">\n",
       "<use xlink:href=\"#glyph-0-0\" x=\"289.476\" y=\"170.266\"/>\n",
       "</g>\n",
       "<path fill=\"none\" stroke-width=\"0.59776\" stroke-linecap=\"butt\" stroke-linejoin=\"miter\" stroke=\"rgb(0%, 0%, 0%)\" stroke-opacity=\"1\" stroke-miterlimit=\"10\" d=\"M 152.373562 152.37325 C 230.795437 230.795125 45.248563 222.693562 130.041531 151.545125 \" transform=\"matrix(1, 0, 0, -1, 85.478, 231.092)\"/>\n",
       "<path fill-rule=\"nonzero\" fill=\"rgb(0%, 0%, 0%)\" fill-opacity=\"1\" stroke-width=\"0.59776\" stroke-linecap=\"butt\" stroke-linejoin=\"round\" stroke=\"rgb(0%, 0%, 0%)\" stroke-opacity=\"1\" stroke-miterlimit=\"10\" d=\"M 0.916929 -0.0000460027 C -0.23022 0.230624 -1.374141 0.688378 -2.748797 1.487955 C -1.374858 0.458302 -1.374736 -0.459489 -2.748666 -1.48999 C -1.375453 -0.689564 -0.228663 -0.227016 0.916929 -0.0000460027 Z M 0.916929 -0.0000460027 \" transform=\"matrix(0.76602, 0.64278, 0.64278, -0.76602, 215.5203, 79.5473)\"/>\n",
       "<g fill=\"rgb(0%, 0%, 0%)\" fill-opacity=\"1\">\n",
       "<use xlink:href=\"#glyph-1-1\" x=\"221.928\" y=\"17.843\"/>\n",
       "</g>\n",
       "<path fill=\"none\" stroke-width=\"0.59776\" stroke-linecap=\"butt\" stroke-linejoin=\"miter\" stroke=\"rgb(0%, 0%, 0%)\" stroke-opacity=\"1\" stroke-miterlimit=\"10\" d=\"M 131.096219 131.095906 L 10.791531 10.791219 \" transform=\"matrix(1, 0, 0, -1, 85.478, 231.092)\"/>\n",
       "<path fill-rule=\"nonzero\" fill=\"rgb(0%, 0%, 0%)\" fill-opacity=\"1\" stroke-width=\"0.59776\" stroke-linecap=\"butt\" stroke-linejoin=\"round\" stroke=\"rgb(0%, 0%, 0%)\" stroke-opacity=\"1\" stroke-miterlimit=\"10\" d=\"M 0.918671 0.000220973 C -0.227626 0.22948 -1.376686 0.687999 -2.74948 1.491789 C -1.373923 0.45874 -1.373923 -0.458298 -2.74948 -1.491347 C -1.376686 -0.687557 -0.227626 -0.229039 0.918671 0.000220973 Z M 0.918671 0.000220973 \" transform=\"matrix(-0.7071, 0.7071, 0.7071, 0.7071, 96.27053, 220.29947)\"/>\n",
       "<g fill=\"rgb(0%, 0%, 0%)\" fill-opacity=\"1\">\n",
       "<use xlink:href=\"#glyph-0-0\" x=\"159.964\" y=\"170.266\"/>\n",
       "</g>\n",
       "<g fill=\"rgb(0%, 0%, 0%)\" fill-opacity=\"1\">\n",
       "<use xlink:href=\"#glyph-2-0\" x=\"167.159\" y=\"170.266\"/>\n",
       "</g>\n",
       "<g fill=\"rgb(0%, 0%, 0%)\" fill-opacity=\"1\">\n",
       "<use xlink:href=\"#glyph-1-1\" x=\"177.121\" y=\"170.266\"/>\n",
       "</g>\n",
       "</svg>"
      ],
      "text/plain": [
       "<IPython.core.display.SVG object>"
      ]
     },
     "execution_count": 5,
     "metadata": {},
     "output_type": "execute_result"
    }
   ],
   "source": [
    "%%itikz\n",
    "\\documentclass[tikz]{standalone}\n",
    "\\usetikzlibrary{automata, positioning, arrows}\n",
    "\\tikzset{\n",
    "\t->,  % makes the edges directed\n",
    "\t>=stealth, % makes the arrow heads bold\n",
    "\tshorten >=2pt, shorten <=2pt, % shorten the arrow\n",
    "\tnode distance=3cm, % specifies the minimum distance between two nodes. Change if n\n",
    "\tevery state/.style={draw=blue!55,very thick,fill=blue!20}, % sets the properties for each ’state’ n\n",
    "\tinitial text=$ $, % sets the text that appears on the start arrow\n",
    " }\n",
    "\n",
    "\\begin{document}\n",
    "\\begin{tikzpicture}[->,>=stealth',shorten >=1pt,auto,node distance=2.5cm,\n",
    "                    semithick]\n",
    "\n",
    "  % Definición de los nodos\n",
    "  \\node[state] (A)    at (0,0)              {$1$};\n",
    "  \\node[state] (B)    at (10,0)             {$2$};\n",
    "  \\node[state] (C)    at (5,5)              {$3$};\n",
    "\n",
    "  % Definición de las aristas\n",
    "  \\path (A) edge [loop left, in=140, out=220, looseness=15]  node {$p$} (A)\n",
    "            edge              node {$1-p$} (B)\n",
    "        (B) edge              node {$1$} (C)\n",
    "            \n",
    "        (C) edge [loop above, in=140, out=45, looseness=15] node {$q$} (C)\n",
    "            edge                                            node {$1-q$} (A);\n",
    "\\end{tikzpicture}\n",
    "\\end{document}"
   ]
  },
  {
   "cell_type": "markdown",
   "metadata": {},
   "source": [
    "### Recurrencia\n",
    "Recordemos lo que significa que un estado sea recurrente.\n",
    "Definamos lo siguiente:\n",
    "\n",
    "- $f_{ij}^{\\left( n\\right) }:=$ probabilidad que la cadena visite por\n",
    "primera vez al estado $j$ en la etapa $n$ partiendo de $i$. \n",
    "\n",
    "$$ \n",
    "f_{ij}^{\\left( n\\right) }=\\mathbb{P}\\left(X_{n}=j,X_{n-1}\\not=j,X_{n-2}\\not=j,...,X_{1}\\not=j\\mid X_{0}=i\\right) \n",
    "$$\n",
    "\n",
    "\n",
    "- $f_{ij}:=$ probabilidad de entrar al estado $j$ en algúna etapa\n",
    "comenzando en $i$. \n",
    "$$\n",
    "f_{ij}=\\sum\\limits_{n=1}^{\\infty }f_{ij}^{\\left( n\\right) } \n",
    "$$\n",
    "\n",
    "**Definición**: Diremos que $j$ es _recurrente_ ssi $f_{jj}=1$, y  _transiente_ (o _transitorio_) si $f_{jj}<1$."
   ]
  },
  {
   "cell_type": "markdown",
   "metadata": {},
   "source": [
    "Analicemos si es estado $j=1$ es transitorio o recurrente.\n",
    "Notamos que \n",
    "- $f_{11}^{(1)} = p$,\n",
    "- $f_{11}^{(2)} = 0$,\n",
    "- $f_{11}^{(3)} = (1-p)\\cdot 1 \\cdot (1-q)$,\n",
    "- y en general, para $n \\geq 3$, $f_{11}^{(n)} = (1-p)\\cdot 1 \\cdot q^{n-3} \\cdot (1-q)$.\n",
    "Así,\n",
    "$$\n",
    "\\begin{align*}\n",
    "f_{11} &= \\sum\\limits_{n=1}^{\\infty }f_{11}^{\\left( n\\right) } \\\\\n",
    "       &= f_{11}^{(1)} + f_{11}^{(2)} + \\sum\\limits_{n=3}^{\\infty} (1-p)\\cdot 1 \\cdot q^{n-3} \\cdot (1-q) \\\\\n",
    "       &= p + \\sum\\limits_{n=3}^{\\infty} (1-p)\\cdot 1 \\cdot q^{n-3} \\cdot (1-q).\n",
    "\\end{align*}\n",
    "$$"
   ]
  },
  {
   "cell_type": "markdown",
   "metadata": {},
   "source": [
    "Resolvamos esta serie con Sympy:"
   ]
  },
  {
   "cell_type": "code",
   "execution_count": 9,
   "metadata": {},
   "outputs": [
    {
     "data": {
      "text/latex": [
       "$\\displaystyle p + \\sum_{n=3}^{\\infty} q^{n - 3} \\cdot \\left(1 - p\\right) \\left(1 - q\\right)$"
      ],
      "text/plain": [
       "p + Sum(q**(n - 3)*(1 - p)*(1 - q), (n, 3, oo))"
      ]
     },
     "execution_count": 9,
     "metadata": {},
     "output_type": "execute_result"
    }
   ],
   "source": [
    "f11 = p + sym.Sum((1-p)*q**(n-3)*(1-q),(n,3,sym.oo))\n",
    "f11"
   ]
  },
  {
   "cell_type": "code",
   "execution_count": 10,
   "metadata": {},
   "outputs": [
    {
     "data": {
      "text/latex": [
       "$\\displaystyle \\begin{cases} 1 & \\text{for}\\: q > -1 \\wedge q < 1 \\\\p + \\left(p q - p - q + 1\\right) \\sum_{n=3}^{\\infty} q^{n - 3} & \\text{otherwise} \\end{cases}$"
      ],
      "text/plain": [
       "Piecewise((1, (q > -1) & (q < 1)), (p + (p*q - p - q + 1)*Sum(q**(n - 3), (n, 3, oo)), True))"
      ]
     },
     "execution_count": 10,
     "metadata": {},
     "output_type": "execute_result"
    }
   ],
   "source": [
    "f11_valor = sym.simplify(f11.doit())\n",
    "f11_valor"
   ]
  },
  {
   "cell_type": "markdown",
   "metadata": {},
   "source": [
    "De lo anterior, como $q < 1 $, implica $f_{11} = 1$, y por tanto el estado $1$ es recurrente."
   ]
  },
  {
   "cell_type": "markdown",
   "metadata": {},
   "source": [
    "### ¿Cuál es el tiempo esperado del 1er retorno para el estado $1$?\n",
    "\n",
    "Definamos lo siguiente:\n",
    "Supongamos la cadena empieza en $X_{0}=i$. Definamos:\n",
    "\n",
    "- $T_{i}:=$ instante del primer acceso al estado $i$.\n",
    "\n",
    "- $T_{i}=n\\Leftrightarrow X_{n}=i,X_{n-1}\\not=i,...,X_{1}\\not=i$\n",
    "\n",
    "- Luego \n",
    "$$\n",
    "\\mathbb{P}\\left( T_{i}=n\\right) =f_{ii}^{\\left( n\\right) }\n",
    "$$\n",
    "\n",
    "- Número de transiciones esperadas de retorno:\n",
    "$$\n",
    "\\mu _{ii}:=\\mathbb{E}\\left[ T_{i}\\mid X_{0}=i\\right] =\\sum\\limits_{i=1}^{%\n",
    "\\infty }nf_{ii}^{\\left( n\\right) }.\n",
    "$$"
   ]
  },
  {
   "cell_type": "markdown",
   "metadata": {},
   "source": [
    "Resolvamos esta serie con Sympy:"
   ]
  },
  {
   "cell_type": "code",
   "execution_count": 15,
   "metadata": {},
   "outputs": [
    {
     "data": {
      "text/latex": [
       "$\\displaystyle p + \\sum_{n=3}^{\\infty} n q^{n - 3} \\cdot \\left(1 - p\\right) \\left(1 - q\\right)$"
      ],
      "text/plain": [
       "p + Sum(n*q**(n - 3)*(1 - p)*(1 - q), (n, 3, oo))"
      ]
     },
     "execution_count": 15,
     "metadata": {},
     "output_type": "execute_result"
    }
   ],
   "source": [
    "mu_11 = p + sym.Sum(n*(1-p)*q**(n-3)*(1-q),(n,3,sym.oo)) # Ojo: sym.oo significa \"infinito\"\n",
    "mu_11"
   ]
  },
  {
   "cell_type": "code",
   "execution_count": 14,
   "metadata": {},
   "outputs": [
    {
     "data": {
      "text/latex": [
       "$\\displaystyle \\begin{cases} \\frac{- p q + 2 p + 2 q - 3}{q - 1} & \\text{for}\\: q > -1 \\wedge q < 1 \\\\p + \\left(p q - p - q + 1\\right) \\sum_{n=3}^{\\infty} n q^{n - 3} & \\text{otherwise} \\end{cases}$"
      ],
      "text/plain": [
       "Piecewise(((-p*q + 2*p + 2*q - 3)/(q - 1), (q > -1) & (q < 1)), (p + (p*q - p - q + 1)*Sum(n*q**(n - 3), (n, 3, oo)), True))"
      ]
     },
     "execution_count": 14,
     "metadata": {},
     "output_type": "execute_result"
    }
   ],
   "source": [
    "mu_11_valor = sym.simplify(mu_11.doit())\n",
    "mu_11_valor"
   ]
  },
  {
   "cell_type": "markdown",
   "metadata": {},
   "source": [
    "Como $q<1$, implica $\\mu_{11} = \\dfrac{-pq+2p+2q-3}{q-1}$, y así $\\mu_{11} < \\infty$. Decimos en este caso que el estado $1$ es _recurrente_ _positivo_. En el caso que $\\mu_{11} = \\infty$, diríamos que el estado $1$ es _recurrente_ _nulo_."
   ]
  }
 ],
 "metadata": {
  "kernelspec": {
   "display_name": "base",
   "language": "python",
   "name": "python3"
  },
  "language_info": {
   "codemirror_mode": {
    "name": "ipython",
    "version": 3
   },
   "file_extension": ".py",
   "mimetype": "text/x-python",
   "name": "python",
   "nbconvert_exporter": "python",
   "pygments_lexer": "ipython3",
   "version": "3.11.5"
  }
 },
 "nbformat": 4,
 "nbformat_minor": 2
}
